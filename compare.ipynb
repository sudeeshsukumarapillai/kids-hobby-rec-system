{
 "cells": [
  {
   "cell_type": "code",
   "execution_count": 1,
   "metadata": {},
   "outputs": [],
   "source": [
    "import pandas as pd\n",
    "import numpy as np\n",
    "from sklearn.preprocessing import LabelEncoder, StandardScaler\n",
    "from sklearn.metrics.pairwise import cosine_similarity\n",
    "from sklearn.model_selection import KFold\n",
    "from sklearn.metrics import accuracy_score, precision_score, recall_score, f1_score\n",
    "from sklearn.neighbors import KNeighborsClassifier"
   ]
  },
  {
   "cell_type": "code",
   "execution_count": 2,
   "metadata": {},
   "outputs": [],
   "source": [
    "data = pd.read_csv('./data/Hobby_Data.csv')\n",
    "data.drop_duplicates(inplace=True)"
   ]
  },
  {
   "cell_type": "code",
   "execution_count": 3,
   "metadata": {},
   "outputs": [],
   "source": [
    "def preprocess_data(df):\n",
    "    df_processed = df.copy()\n",
    "    bool_columns = ['Olympiad_Participation', 'Scholarship', 'School', 'Projects', 'Medals', 'Career_sprt', 'Act_sprt', 'Fant_arts']\n",
    "    for col in bool_columns:\n",
    "        df_processed[col] = df_processed[col].map({'Yes': 1, 'No': 0})\n",
    "    df_processed['Won_arts'] = df_processed['Won_arts'].map({'Yes': 1, 'No': 0, 'Maybe': 0.5})\n",
    "    le = LabelEncoder()\n",
    "    df_processed['Fav_sub'] = le.fit_transform(df_processed['Fav_sub'])\n",
    "    scaler = StandardScaler()\n",
    "    numerical_columns = ['Grasp_pow', 'Time_sprt', 'Time_art']\n",
    "    df_processed[numerical_columns] = scaler.fit_transform(df_processed[numerical_columns])\n",
    "    return df_processed\n"
   ]
  },
  {
   "cell_type": "code",
   "execution_count": 4,
   "metadata": {},
   "outputs": [],
   "source": [
    "data_processed = preprocess_data(data)\n",
    "X = data_processed.drop(['Predicted Hobby'], axis=1)\n",
    "y = data_processed['Predicted Hobby']\n",
    "le_hobby = LabelEncoder()\n",
    "y_encoded = le_hobby.fit_transform(y)\n"
   ]
  },
  {
   "cell_type": "code",
   "execution_count": 12,
   "metadata": {},
   "outputs": [],
   "source": [
    "data_processed.to_csv(\"./data/processed_hobby_data.csv\")"
   ]
  },
  {
   "cell_type": "code",
   "execution_count": 5,
   "metadata": {},
   "outputs": [],
   "source": [
    "# Cosine Similarity Model\n",
    "def cosine_similarity_model(X_train, y_train):\n",
    "    return cosine_similarity(X_train)\n",
    "\n",
    "def predict_cosine(cosine_sim, X_test, X_train, y_train):\n",
    "    similarities = cosine_similarity(X_test, X_train)\n",
    "    predictions = []\n",
    "    for sim in similarities:\n",
    "        most_similar_index = sim.argmax()\n",
    "        predictions.append(y_train.iloc[most_similar_index])\n",
    "    return predictions\n"
   ]
  },
  {
   "cell_type": "code",
   "execution_count": 6,
   "metadata": {},
   "outputs": [],
   "source": [
    "# KNN Model\n",
    "def knn_model(X_train, y_train, n_neighbors=5):\n",
    "    knn = KNeighborsClassifier(n_neighbors=n_neighbors)\n",
    "    knn.fit(X_train, y_train)\n",
    "    return knn\n",
    "\n",
    "# Evaluation function\n",
    "def evaluate_model(y_true, y_pred):\n",
    "    accuracy = accuracy_score(y_true, y_pred)\n",
    "    precision = precision_score(y_true, y_pred, average='weighted')\n",
    "    recall = recall_score(y_true, y_pred, average='weighted')\n",
    "    f1 = f1_score(y_true, y_pred, average='weighted')\n",
    "    return {\n",
    "        'accuracy': accuracy,\n",
    "        'precision': precision,\n",
    "        'recall': recall,\n",
    "        'f1': f1\n",
    "    }\n"
   ]
  },
  {
   "cell_type": "code",
   "execution_count": 7,
   "metadata": {},
   "outputs": [
    {
     "name": "stdout",
     "output_type": "stream",
     "text": [
      "Fold 1:\n",
      "Cosine Similarity: {'accuracy': 0.8467432950191571, 'precision': np.float64(0.8516600141541096), 'recall': np.float64(0.8467432950191571), 'f1': np.float64(0.8473712329956883)}\n",
      "KNN: {'accuracy': 0.8697318007662835, 'precision': np.float64(0.871678125929425), 'recall': np.float64(0.8697318007662835), 'f1': np.float64(0.8698852328221854)}\n",
      "\n",
      "Fold 2:\n",
      "Cosine Similarity: {'accuracy': 0.8544061302681992, 'precision': np.float64(0.8578781797172602), 'recall': np.float64(0.8544061302681992), 'f1': np.float64(0.8550050217609642)}\n",
      "KNN: {'accuracy': 0.8735632183908046, 'precision': np.float64(0.8744606417476425), 'recall': np.float64(0.8735632183908046), 'f1': np.float64(0.873867256451975)}\n",
      "\n",
      "Fold 3:\n",
      "Cosine Similarity: {'accuracy': 0.842911877394636, 'precision': np.float64(0.8429624499084747), 'recall': np.float64(0.842911877394636), 'f1': np.float64(0.8428721507141974)}\n",
      "KNN: {'accuracy': 0.8773946360153256, 'precision': np.float64(0.8806985396190795), 'recall': np.float64(0.8773946360153256), 'f1': np.float64(0.8776874675486064)}\n",
      "\n",
      "Fold 4:\n",
      "Cosine Similarity: {'accuracy': 0.8659003831417624, 'precision': np.float64(0.8695730212971593), 'recall': np.float64(0.8659003831417624), 'f1': np.float64(0.8664437308633165)}\n",
      "KNN: {'accuracy': 0.8697318007662835, 'precision': np.float64(0.8716300145208978), 'recall': np.float64(0.8697318007662835), 'f1': np.float64(0.8697519301768262)}\n",
      "\n",
      "Fold 5:\n",
      "Cosine Similarity: {'accuracy': 0.8812260536398467, 'precision': np.float64(0.8790862515225825), 'recall': np.float64(0.8812260536398467), 'f1': np.float64(0.8794755784585734)}\n",
      "KNN: {'accuracy': 0.8773946360153256, 'precision': np.float64(0.876013185165213), 'recall': np.float64(0.8773946360153256), 'f1': np.float64(0.8760312702992887)}\n",
      "\n"
     ]
    },
    {
     "name": "stderr",
     "output_type": "stream",
     "text": [
      "g:\\Fiverr Projects\\P22 - Kids Hobby Prediction - Sudeesh\\.venv\\Lib\\site-packages\\sklearn\\metrics\\_classification.py:1531: UndefinedMetricWarning: Precision is ill-defined and being set to 0.0 in labels with no predicted samples. Use `zero_division` parameter to control this behavior.\n",
      "  _warn_prf(average, modifier, f\"{metric.capitalize()} is\", len(result))\n",
      "g:\\Fiverr Projects\\P22 - Kids Hobby Prediction - Sudeesh\\.venv\\Lib\\site-packages\\sklearn\\metrics\\_classification.py:1531: UndefinedMetricWarning: Precision is ill-defined and being set to 0.0 in labels with no predicted samples. Use `zero_division` parameter to control this behavior.\n",
      "  _warn_prf(average, modifier, f\"{metric.capitalize()} is\", len(result))\n"
     ]
    }
   ],
   "source": [
    "# K-fold cross-validation\n",
    "n_splits = 5\n",
    "kf = KFold(n_splits=n_splits, shuffle=True, random_state=42)\n",
    "\n",
    "cosine_scores = []\n",
    "knn_scores = []\n",
    "\n",
    "for fold, (train_index, val_index) in enumerate(kf.split(X), 1):\n",
    "    X_train, X_val = X.iloc[train_index], X.iloc[val_index]\n",
    "    y_train, y_val = y.iloc[train_index], y.iloc[val_index]\n",
    "\n",
    "    # Cosine Similarity\n",
    "    cosine_sim = cosine_similarity_model(X_train, y_train)\n",
    "    y_pred_cosine = predict_cosine(cosine_sim, X_val, X_train, y_train)\n",
    "    cosine_score = evaluate_model(y_val, y_pred_cosine)\n",
    "    cosine_scores.append(cosine_score)\n",
    "\n",
    "    # KNN\n",
    "    knn = knn_model(X_train, y_train)\n",
    "    y_pred_knn = knn.predict(X_val)\n",
    "    knn_score = evaluate_model(y_val, y_pred_knn)\n",
    "    knn_scores.append(knn_score)\n",
    "\n",
    "    print(f\"Fold {fold}:\")\n",
    "    print(f\"Cosine Similarity: {cosine_score}\")\n",
    "    print(f\"KNN: {knn_score}\")\n",
    "    print()\n"
   ]
  },
  {
   "cell_type": "code",
   "execution_count": 8,
   "metadata": {},
   "outputs": [
    {
     "name": "stdout",
     "output_type": "stream",
     "text": [
      "Average Scores:\n",
      "Cosine Similarity: {'accuracy': np.float64(0.8582375478927204), 'precision': np.float64(0.8602319833199173), 'recall': np.float64(0.8582375478927204), 'f1': np.float64(0.8582335429585479)}\n",
      "KNN: {'accuracy': np.float64(0.8735632183908045), 'precision': np.float64(0.8748961013964516), 'recall': np.float64(0.8735632183908045), 'f1': np.float64(0.8734446314597764)}\n"
     ]
    }
   ],
   "source": [
    "# Calculate average scores\n",
    "avg_cosine_scores = {metric: np.mean([score[metric] for score in cosine_scores]) for metric in cosine_scores[0]}\n",
    "avg_knn_scores = {metric: np.mean([score[metric] for score in knn_scores]) for metric in knn_scores[0]}\n",
    "\n",
    "print(\"Average Scores:\")\n",
    "print(f\"Cosine Similarity: {avg_cosine_scores}\")\n",
    "print(f\"KNN: {avg_knn_scores}\")\n"
   ]
  },
  {
   "cell_type": "code",
   "execution_count": 9,
   "metadata": {},
   "outputs": [
    {
     "name": "stdout",
     "output_type": "stream",
     "text": [
      "KNN is the better model.\n"
     ]
    }
   ],
   "source": [
    "# Select the best model\n",
    "if avg_cosine_scores['f1'] > avg_knn_scores['f1']:\n",
    "    print(\"Cosine Similarity is the better model.\")\n",
    "    best_model = \"Cosine Similarity\"\n",
    "else:\n",
    "    print(\"KNN is the better model.\")\n",
    "    best_model = \"KNN\"\n"
   ]
  },
  {
   "cell_type": "code",
   "execution_count": 10,
   "metadata": {},
   "outputs": [],
   "source": [
    "# Example usage with the best model\n",
    "def recommend_hobby(input_data, model_type):\n",
    "    input_df = pd.DataFrame([input_data])\n",
    "    input_processed = preprocess_data(input_df)\n",
    "    \n",
    "    if model_type == \"Cosine Similarity\":\n",
    "        input_similarity = cosine_similarity(input_processed, X)\n",
    "        most_similar_index = input_similarity.argmax()\n",
    "        return y.iloc[most_similar_index]\n",
    "    else:  # KNN\n",
    "        knn = knn_model(X, y)\n",
    "        return knn.predict(input_processed)[0]\n"
   ]
  },
  {
   "cell_type": "code",
   "execution_count": 11,
   "metadata": {},
   "outputs": [
    {
     "name": "stdout",
     "output_type": "stream",
     "text": [
      "Recommended Hobby using KNN: Academics\n"
     ]
    }
   ],
   "source": [
    "# Example input\n",
    "input_data = {\n",
    "    'Olympiad_Participation': 'Yes',\n",
    "    'Scholarship': 'Yes',\n",
    "    'School': 'Yes',\n",
    "    'Fav_sub': 'Mathematics',\n",
    "    'Projects': 'Yes',\n",
    "    'Grasp_pow': 5,\n",
    "    'Time_sprt': 2,\n",
    "    'Medals': 'Yes',\n",
    "    'Career_sprt': 'No',\n",
    "    'Act_sprt': 'No',\n",
    "    'Fant_arts': 'No',\n",
    "    'Won_arts': 'Maybe',\n",
    "    'Time_art': 3\n",
    "}\n",
    "\n",
    "recommended_hobby = recommend_hobby(input_data, best_model)\n",
    "print(f\"Recommended Hobby using {best_model}: {recommended_hobby}\")"
   ]
  },
  {
   "cell_type": "code",
   "execution_count": 14,
   "metadata": {},
   "outputs": [],
   "source": [
    "import pickle\n",
    "\n",
    "# Save the model to a file\n",
    "with open('./models/knn_model.pkl', 'wb') as file:\n",
    "    pickle.dump(knn, file)\n"
   ]
  }
 ],
 "metadata": {
  "kernelspec": {
   "display_name": ".venv",
   "language": "python",
   "name": "python3"
  },
  "language_info": {
   "codemirror_mode": {
    "name": "ipython",
    "version": 3
   },
   "file_extension": ".py",
   "mimetype": "text/x-python",
   "name": "python",
   "nbconvert_exporter": "python",
   "pygments_lexer": "ipython3",
   "version": "3.11.3"
  }
 },
 "nbformat": 4,
 "nbformat_minor": 2
}
