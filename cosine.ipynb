{
 "cells": [
  {
   "cell_type": "code",
   "execution_count": 1,
   "metadata": {},
   "outputs": [],
   "source": [
    "import pandas as pd\n",
    "import numpy as np\n",
    "from sklearn.preprocessing import LabelEncoder, StandardScaler\n",
    "from sklearn.metrics.pairwise import cosine_similarity"
   ]
  },
  {
   "cell_type": "code",
   "execution_count": 2,
   "metadata": {},
   "outputs": [],
   "source": [
    "data = pd.read_csv('./data/Hobby_Data.csv')\n",
    "data.drop_duplicates(inplace=True)"
   ]
  },
  {
   "cell_type": "code",
   "execution_count": 3,
   "metadata": {},
   "outputs": [],
   "source": [
    "# Preprocess the data\n",
    "def preprocess_data(df):\n",
    "    # Create a copy of the dataframe\n",
    "    df_processed = df.copy()\n",
    "    \n",
    "    # Convert boolean columns to int\n",
    "    bool_columns = ['Olympiad_Participation', 'Scholarship', 'School', 'Projects', 'Medals', 'Career_sprt', 'Act_sprt', 'Fant_arts']\n",
    "    for col in bool_columns:\n",
    "        df_processed[col] = df_processed[col].map({'Yes': 1, 'No': 0})\n",
    "    \n",
    "    # Handle 'Won_arts' column\n",
    "    df_processed['Won_arts'] = df_processed['Won_arts'].map({'Yes': 1, 'No': 0, 'Maybe': 0.5})\n",
    "    \n",
    "    # Encode categorical variables\n",
    "    le = LabelEncoder()\n",
    "    df_processed['Fav_sub'] = le.fit_transform(df_processed['Fav_sub'])\n",
    "    \n",
    "    # Scale numerical features\n",
    "    scaler = StandardScaler()\n",
    "    numerical_columns = ['Grasp_pow', 'Time_sprt', 'Time_art']\n",
    "    df_processed[numerical_columns] = scaler.fit_transform(df_processed[numerical_columns])\n",
    "    \n",
    "    return df_processed\n"
   ]
  },
  {
   "cell_type": "code",
   "execution_count": 4,
   "metadata": {},
   "outputs": [],
   "source": [
    "# Apply preprocessing\n",
    "data_processed = preprocess_data(data)\n"
   ]
  },
  {
   "cell_type": "code",
   "execution_count": 14,
   "metadata": {},
   "outputs": [
    {
     "data": {
      "text/html": [
       "<div>\n",
       "<style scoped>\n",
       "    .dataframe tbody tr th:only-of-type {\n",
       "        vertical-align: middle;\n",
       "    }\n",
       "\n",
       "    .dataframe tbody tr th {\n",
       "        vertical-align: top;\n",
       "    }\n",
       "\n",
       "    .dataframe thead th {\n",
       "        text-align: right;\n",
       "    }\n",
       "</style>\n",
       "<table border=\"1\" class=\"dataframe\">\n",
       "  <thead>\n",
       "    <tr style=\"text-align: right;\">\n",
       "      <th></th>\n",
       "      <th>Olympiad_Participation</th>\n",
       "      <th>Scholarship</th>\n",
       "      <th>School</th>\n",
       "      <th>Fav_sub</th>\n",
       "      <th>Projects</th>\n",
       "      <th>Grasp_pow</th>\n",
       "      <th>Time_sprt</th>\n",
       "      <th>Medals</th>\n",
       "      <th>Career_sprt</th>\n",
       "      <th>Act_sprt</th>\n",
       "      <th>Fant_arts</th>\n",
       "      <th>Won_arts</th>\n",
       "      <th>Time_art</th>\n",
       "      <th>Predicted Hobby</th>\n",
       "    </tr>\n",
       "  </thead>\n",
       "  <tbody>\n",
       "  </tbody>\n",
       "</table>\n",
       "</div>"
      ],
      "text/plain": [
       "Empty DataFrame\n",
       "Columns: [Olympiad_Participation, Scholarship, School, Fav_sub, Projects, Grasp_pow, Time_sprt, Medals, Career_sprt, Act_sprt, Fant_arts, Won_arts, Time_art, Predicted Hobby]\n",
       "Index: []"
      ]
     },
     "execution_count": 14,
     "metadata": {},
     "output_type": "execute_result"
    }
   ],
   "source": [
    "# data_processed[data_processed.duplicated()]"
   ]
  },
  {
   "cell_type": "code",
   "execution_count": 5,
   "metadata": {},
   "outputs": [],
   "source": [
    "# Separate features and target\n",
    "X = data_processed.drop(['Predicted Hobby'], axis=1)\n",
    "y = data_processed['Predicted Hobby']\n",
    "\n",
    "# Calculate cosine similarity matrix\n",
    "cosine_sim = cosine_similarity(X)\n"
   ]
  },
  {
   "cell_type": "code",
   "execution_count": 6,
   "metadata": {},
   "outputs": [],
   "source": [
    "# Create recommendation function\n",
    "def recommend_hobby(input_data):\n",
    "    # Preprocess input data\n",
    "    input_df = pd.DataFrame([input_data])\n",
    "    input_processed = preprocess_data(input_df) \n",
    "    \n",
    "    # Calculate cosine similarity between input and all data points\n",
    "    input_similarity = cosine_similarity(input_processed, X)\n",
    "    \n",
    "    # Find the index of the most similar data point\n",
    "    most_similar_index = input_similarity.argmax()\n",
    "    \n",
    "    # Get the recommended hobby\n",
    "    recommended_hobby = y.iloc[most_similar_index]\n",
    "    \n",
    "    return recommended_hobby\n"
   ]
  },
  {
   "cell_type": "code",
   "execution_count": 12,
   "metadata": {},
   "outputs": [
    {
     "name": "stdout",
     "output_type": "stream",
     "text": [
      "Recommended Hobby: Academics\n"
     ]
    }
   ],
   "source": [
    "# Example usage\n",
    "input_data = {\n",
    "    'Olympiad_Participation': 'Yes',\n",
    "    'Scholarship': 'Yes',\n",
    "    'School': 'Yes',\n",
    "    'Fav_sub': 'Mathematics',\n",
    "    'Projects': 'Yes',\n",
    "    'Grasp_pow': 5,\n",
    "    'Time_sprt': 2,\n",
    "    'Medals': 'Yes',\n",
    "    'Career_sprt': 'No',\n",
    "    'Act_sprt': 'No',\n",
    "    'Fant_arts': 'No',\n",
    "    'Won_arts': 'Maybe',\n",
    "    'Time_art': 3\n",
    "}\n",
    "\n",
    "recommended_hobby = recommend_hobby(input_data)\n",
    "print(f\"Recommended Hobby: {recommended_hobby}\")\n"
   ]
  },
  {
   "cell_type": "code",
   "execution_count": 8,
   "metadata": {},
   "outputs": [
    {
     "name": "stdout",
     "output_type": "stream",
     "text": [
      "Test 1 - Recommended Hobby: Academics\n",
      "Test 2 - Recommended Hobby: Academics\n"
     ]
    }
   ],
   "source": [
    "# Test with a few more examples\n",
    "test_inputs = [\n",
    "    {\n",
    "        'Olympiad_Participation': 'Yes',\n",
    "        'Scholarship': 'Yes',\n",
    "        'School': 'Yes',\n",
    "        'Fav_sub': 'Science',\n",
    "        'Projects': 'Yes',\n",
    "        'Grasp_pow': 4,\n",
    "        'Time_sprt': 3,\n",
    "        'Medals': 'No',\n",
    "        'Career_sprt': 'No',\n",
    "        'Act_sprt': 'No',\n",
    "        'Fant_arts': 'No',\n",
    "        'Won_arts': 'No',\n",
    "        'Time_art': 2\n",
    "    },\n",
    "    {\n",
    "        'Olympiad_Participation': 'Yes',\n",
    "        'Scholarship': 'Yes',\n",
    "        'School': 'Yes',\n",
    "        'Fav_sub': 'Any language',\n",
    "        'Projects': 'No',\n",
    "        'Grasp_pow': 3,\n",
    "        'Time_sprt': 1,\n",
    "        'Medals': 'Yes',\n",
    "        'Career_sprt': 'No',\n",
    "        'Act_sprt': 'No',\n",
    "        'Fant_arts': 'No',\n",
    "        'Won_arts': 'No',\n",
    "        'Time_art': 1\n",
    "    }\n",
    "]\n",
    "\n",
    "for i, test_input in enumerate(test_inputs, 1):\n",
    "    recommended_hobby = recommend_hobby(test_input)\n",
    "    print(f\"Test {i} - Recommended Hobby: {recommended_hobby}\")"
   ]
  }
 ],
 "metadata": {
  "kernelspec": {
   "display_name": ".venv",
   "language": "python",
   "name": "python3"
  },
  "language_info": {
   "codemirror_mode": {
    "name": "ipython",
    "version": 3
   },
   "file_extension": ".py",
   "mimetype": "text/x-python",
   "name": "python",
   "nbconvert_exporter": "python",
   "pygments_lexer": "ipython3",
   "version": "3.11.3"
  }
 },
 "nbformat": 4,
 "nbformat_minor": 2
}
